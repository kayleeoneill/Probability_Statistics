{
  "nbformat": 4,
  "nbformat_minor": 0,
  "metadata": {
    "colab": {
      "provenance": [],
      "collapsed_sections": [
        "6o5zYVOU8ahE"
      ],
      "include_colab_link": true
    },
    "kernelspec": {
      "name": "python3",
      "display_name": "Python 3"
    },
    "language_info": {
      "name": "python"
    }
  },
  "cells": [
    {
      "cell_type": "markdown",
      "metadata": {
        "id": "view-in-github",
        "colab_type": "text"
      },
      "source": [
        "<a href=\"https://colab.research.google.com/github/kayleeoneill/Probability_Statistics/blob/main/kayleeoneill_2023_Lab_4.ipynb\" target=\"_parent\"><img src=\"https://colab.research.google.com/assets/colab-badge.svg\" alt=\"Open In Colab\"/></a>"
      ]
    },
    {
      "cell_type": "markdown",
      "source": [
        "# Stats Notebook Lab #4\n"
      ],
      "metadata": {
        "id": "GEwHyK5ve9lG"
      }
    },
    {
      "cell_type": "code",
      "source": [
        "import numpy as np\n",
        "import matplotlib.pyplot as plt"
      ],
      "metadata": {
        "id": "vJ6HJOKPFbkn"
      },
      "execution_count": 1,
      "outputs": []
    },
    {
      "cell_type": "code",
      "source": [
        "x = np.array([12, 17, 18, 23, 56, 37, 48])"
      ],
      "metadata": {
        "id": "mG_A0OrJ3rQ-"
      },
      "execution_count": 2,
      "outputs": []
    },
    {
      "cell_type": "code",
      "source": [
        "# population"
      ],
      "metadata": {
        "id": "qtftE4fTLopi"
      },
      "execution_count": 3,
      "outputs": []
    },
    {
      "cell_type": "code",
      "source": [
        "def mean(x):\n",
        "    return np.sum(x)/x.shape[0]"
      ],
      "metadata": {
        "id": "2sNU3WHzKL-K"
      },
      "execution_count": 4,
      "outputs": []
    },
    {
      "cell_type": "code",
      "source": [
        "def var(x):\n",
        "    return mean((x - mean(x))**2)"
      ],
      "metadata": {
        "id": "AFiWPynDKL-K"
      },
      "execution_count": 5,
      "outputs": []
    },
    {
      "cell_type": "code",
      "source": [
        "#average square difference from the mean"
      ],
      "metadata": {
        "id": "TPmLKVSs-0Gk"
      },
      "execution_count": 6,
      "outputs": []
    },
    {
      "cell_type": "code",
      "source": [
        "def std(x):\n",
        "    return np.sqrt(var(x))"
      ],
      "metadata": {
        "id": "qgYexg70KL-K"
      },
      "execution_count": 7,
      "outputs": []
    },
    {
      "cell_type": "code",
      "source": [
        "#standard deviation"
      ],
      "metadata": {
        "id": "1yDDXyge_JUd"
      },
      "execution_count": 8,
      "outputs": []
    },
    {
      "cell_type": "code",
      "source": [
        "mean(x)"
      ],
      "metadata": {
        "colab": {
          "base_uri": "https://localhost:8080/"
        },
        "outputId": "ee25824a-688c-48e8-bb20-4e2c2fc86fb0",
        "id": "RWRhGNozKL-K"
      },
      "execution_count": 9,
      "outputs": [
        {
          "output_type": "execute_result",
          "data": {
            "text/plain": [
              "30.142857142857142"
            ]
          },
          "metadata": {},
          "execution_count": 9
        }
      ]
    },
    {
      "cell_type": "code",
      "source": [
        "var(x)"
      ],
      "metadata": {
        "colab": {
          "base_uri": "https://localhost:8080/"
        },
        "id": "qE62mTdl42M8",
        "outputId": "6dc1f87a-c911-49ba-d7cf-60cee7d084d8"
      },
      "execution_count": 10,
      "outputs": [
        {
          "output_type": "execute_result",
          "data": {
            "text/plain": [
              "247.83673469387756"
            ]
          },
          "metadata": {},
          "execution_count": 10
        }
      ]
    },
    {
      "cell_type": "code",
      "source": [
        "std(x)"
      ],
      "metadata": {
        "colab": {
          "base_uri": "https://localhost:8080/"
        },
        "outputId": "142d01b7-3b9b-4418-dba8-12c8a6b71617",
        "id": "GNgkLkMWKL-K"
      },
      "execution_count": 11,
      "outputs": [
        {
          "output_type": "execute_result",
          "data": {
            "text/plain": [
              "15.742831215949613"
            ]
          },
          "metadata": {},
          "execution_count": 11
        }
      ]
    },
    {
      "cell_type": "code",
      "source": [],
      "metadata": {
        "id": "mdaH_hwUKNxJ"
      },
      "execution_count": null,
      "outputs": []
    },
    {
      "cell_type": "markdown",
      "source": [
        "### Random Number Generator"
      ],
      "metadata": {
        "id": "_CYAXnRate5P"
      }
    },
    {
      "cell_type": "code",
      "source": [
        "m = 75                 # multiplier\n",
        "b = 74                 # increment\n",
        "n = 65537              # modulus "
      ],
      "metadata": {
        "id": "UVSSfm-U3zeD"
      },
      "execution_count": 12,
      "outputs": []
    },
    {
      "cell_type": "code",
      "source": [
        "x = 123456      # seed value (starting location/first random number)"
      ],
      "metadata": {
        "id": "P_DmR_fF6wXH"
      },
      "execution_count": 13,
      "outputs": []
    },
    {
      "cell_type": "code",
      "source": [
        "X = np.zeros(50000,)"
      ],
      "metadata": {
        "id": "tsc1C6Pu7HUc"
      },
      "execution_count": 14,
      "outputs": []
    },
    {
      "cell_type": "code",
      "source": [
        "x = (m * x + b) % n"
      ],
      "metadata": {
        "id": "uYYGnjjW318n"
      },
      "execution_count": 15,
      "outputs": []
    },
    {
      "cell_type": "code",
      "source": [
        "for i in range(X.shape[0]):\n",
        "\n",
        "    x = (m * x + b) % n\n",
        "    \n",
        "    X[i] = x\n",
        "\n",
        "X /= np.max(X)"
      ],
      "metadata": {
        "id": "YIkRsEGa6z7k"
      },
      "execution_count": 16,
      "outputs": []
    },
    {
      "cell_type": "code",
      "source": [
        "plt.plot(X[:100],'.')  #the number in the bracket increases or decreaes the amount of dots"
      ],
      "metadata": {
        "id": "CSo6lY_w73zE",
        "outputId": "f510e7ff-24ac-457b-fc86-c580893bd0c9",
        "colab": {
          "base_uri": "https://localhost:8080/",
          "height": 283
        }
      },
      "execution_count": 17,
      "outputs": [
        {
          "output_type": "execute_result",
          "data": {
            "text/plain": [
              "[<matplotlib.lines.Line2D at 0x7fc09c086280>]"
            ]
          },
          "metadata": {},
          "execution_count": 17
        },
        {
          "output_type": "display_data",
          "data": {
            "text/plain": [
              "<Figure size 432x288 with 1 Axes>"
            ],
            "image/png": "[encoded data removed]"
          },
          "metadata": {
            "needs_background": "light"
          }
        }
      ]
    },
    {
      "cell_type": "code",
      "source": [
        "plt.hist(X);    #histogram (how many of each type we're getting)"
      ],
      "metadata": {
        "id": "_0KkpxTi650i",
        "colab": {
          "base_uri": "https://localhost:8080/",
          "height": 265
        },
        "outputId": "6b0657ca-f763-4db7-c584-4a5f515835bd"
      },
      "execution_count": 18,
      "outputs": [
        {
          "output_type": "display_data",
          "data": {
            "text/plain": [
              "<Figure size 432x288 with 1 Axes>"
            ],
            "image/png": "[encoded data removed]"
          },
          "metadata": {
            "needs_background": "light"
          }
        }
      ]
    },
    {
      "cell_type": "code",
      "source": [
        "plt.hist(X,100); #how many values we want"
      ],
      "metadata": {
        "id": "vp84AO4c7-QP",
        "colab": {
          "base_uri": "https://localhost:8080/",
          "height": 265
        },
        "outputId": "64ccfbab-b72a-4ef6-93e7-64df77b46903"
      },
      "execution_count": 19,
      "outputs": [
        {
          "output_type": "display_data",
          "data": {
            "text/plain": [
              "<Figure size 432x288 with 1 Axes>"
            ],
            "image/png": "[encoded data removed]"
          },
          "metadata": {
            "needs_background": "light"
          }
        }
      ]
    },
    {
      "cell_type": "code",
      "source": [
        "X"
      ],
      "metadata": {
        "id": "T8Wl-5_Zmc7u",
        "colab": {
          "base_uri": "https://localhost:8080/"
        },
        "outputId": "fbd744e5-7dfb-4e18-c3b8-6fd6321a2e54"
      },
      "execution_count": 20,
      "outputs": [
        {
          "output_type": "execute_result",
          "data": {
            "text/plain": [
              "array([0.23761349, 0.82162203, 0.62092012, ..., 0.97434958, 0.07512016,\n",
              "       0.63498894])"
            ]
          },
          "metadata": {},
          "execution_count": 20
        }
      ]
    },
    {
      "cell_type": "code",
      "source": [
        "X"
      ],
      "metadata": {
        "id": "DT5uuI5hmLBR",
        "colab": {
          "base_uri": "https://localhost:8080/"
        },
        "outputId": "5f77ed34-4a0a-455e-f505-3da8d7c47690"
      },
      "execution_count": 21,
      "outputs": [
        {
          "output_type": "execute_result",
          "data": {
            "text/plain": [
              "array([0.23761349, 0.82162203, 0.62092012, ..., 0.97434958, 0.07512016,\n",
              "       0.63498894])"
            ]
          },
          "metadata": {},
          "execution_count": 21
        }
      ]
    },
    {
      "cell_type": "code",
      "source": [
        "X"
      ],
      "metadata": {
        "id": "vD9eRx2j1mXM",
        "colab": {
          "base_uri": "https://localhost:8080/"
        },
        "outputId": "163ab2c6-e93f-4de6-9f2e-832fe4580ba1"
      },
      "execution_count": 22,
      "outputs": [
        {
          "output_type": "execute_result",
          "data": {
            "text/plain": [
              "array([0.23761349, 0.82162203, 0.62092012, ..., 0.97434958, 0.07512016,\n",
              "       0.63498894])"
            ]
          },
          "metadata": {},
          "execution_count": 22
        }
      ]
    },
    {
      "cell_type": "code",
      "source": [
        "#to see what x is "
      ],
      "metadata": {
        "id": "vLlHl3YN3Q11"
      },
      "execution_count": null,
      "outputs": []
    },
    {
      "cell_type": "markdown",
      "source": [
        "### Random Numbers"
      ],
      "metadata": {
        "id": "6GjEVk4y2AYF"
      }
    },
    {
      "cell_type": "code",
      "source": [
        "X = np.random.random(50000,) #changing what x is defined as"
      ],
      "metadata": {
        "id": "IJ1jsvY73zgS"
      },
      "execution_count": 25,
      "outputs": []
    },
    {
      "cell_type": "code",
      "source": [
        "plt.hist(X,100);"
      ],
      "metadata": {
        "id": "U-yEFDkP1oqM",
        "colab": {
          "base_uri": "https://localhost:8080/",
          "height": 265
        },
        "outputId": "18d95cc7-7de7-4507-d7b9-4a915f647470"
      },
      "execution_count": 26,
      "outputs": [
        {
          "output_type": "display_data",
          "data": {
            "text/plain": [
              "<Figure size 432x288 with 1 Axes>"
            ],
            "image/png": "[encoded data removed]"
          },
          "metadata": {
            "needs_background": "light"
          }
        }
      ]
    },
    {
      "cell_type": "code",
      "source": [
        "#plotting x again"
      ],
      "metadata": {
        "id": "_OrA5ACN3dWQ"
      },
      "execution_count": 28,
      "outputs": []
    },
    {
      "cell_type": "code",
      "source": [
        "np.random.random() #just seeing what we defined x aas"
      ],
      "metadata": {
        "id": "fMCyKfmP2Mv_",
        "colab": {
          "base_uri": "https://localhost:8080/"
        },
        "outputId": "9b6c5849-9db1-453a-8bdf-6ecf43d2e931"
      },
      "execution_count": 29,
      "outputs": [
        {
          "output_type": "execute_result",
          "data": {
            "text/plain": [
              "0.31534135801709007"
            ]
          },
          "metadata": {},
          "execution_count": 29
        }
      ]
    },
    {
      "cell_type": "code",
      "source": [
        "r = np.random.random()"
      ],
      "metadata": {
        "id": "KQouRNY_2M9g"
      },
      "execution_count": 30,
      "outputs": []
    },
    {
      "cell_type": "code",
      "source": [
        "r"
      ],
      "metadata": {
        "id": "rkZJ6RZf2M_x",
        "colab": {
          "base_uri": "https://localhost:8080/"
        },
        "outputId": "cc52edb8-2333-4702-f8f4-cba19765a751"
      },
      "execution_count": 31,
      "outputs": [
        {
          "output_type": "execute_result",
          "data": {
            "text/plain": [
              "0.39073037178296843"
            ]
          },
          "metadata": {},
          "execution_count": 31
        }
      ]
    },
    {
      "cell_type": "code",
      "source": [
        "r = np.random.randint(1,10)"
      ],
      "metadata": {
        "id": "iaLlvCkO2NCE"
      },
      "execution_count": 32,
      "outputs": []
    },
    {
      "cell_type": "code",
      "source": [
        "r"
      ],
      "metadata": {
        "id": "lj0rWfIX2NFX",
        "colab": {
          "base_uri": "https://localhost:8080/"
        },
        "outputId": "d8a21364-4ad9-493b-e07c-42861564dad5"
      },
      "execution_count": 33,
      "outputs": [
        {
          "output_type": "execute_result",
          "data": {
            "text/plain": [
              "6"
            ]
          },
          "metadata": {},
          "execution_count": 33
        }
      ]
    },
    {
      "cell_type": "code",
      "source": [
        "r = np.random.randint(1,10,size=(10,2))"
      ],
      "metadata": {
        "id": "XaGlEaSe2XGu"
      },
      "execution_count": 34,
      "outputs": []
    },
    {
      "cell_type": "code",
      "source": [
        "r"
      ],
      "metadata": {
        "id": "P2ILyP5p2XlN",
        "colab": {
          "base_uri": "https://localhost:8080/"
        },
        "outputId": "84d23657-d1cd-4d1e-9724-37d70aace237"
      },
      "execution_count": 35,
      "outputs": [
        {
          "output_type": "execute_result",
          "data": {
            "text/plain": [
              "array([[5, 4],\n",
              "       [7, 3],\n",
              "       [3, 9],\n",
              "       [3, 8],\n",
              "       [9, 9],\n",
              "       [3, 1],\n",
              "       [5, 5],\n",
              "       [7, 4],\n",
              "       [2, 4],\n",
              "       [5, 2]])"
            ]
          },
          "metadata": {},
          "execution_count": 35
        }
      ]
    },
    {
      "cell_type": "code",
      "source": [
        "#an array of points, numbers 1-9 and 10 different points"
      ],
      "metadata": {
        "id": "7zr-mOGS3uvh"
      },
      "execution_count": 36,
      "outputs": []
    },
    {
      "cell_type": "code",
      "source": [],
      "metadata": {
        "id": "V2tJ6KoqMW7o"
      },
      "execution_count": null,
      "outputs": []
    },
    {
      "cell_type": "code",
      "source": [
        "np.random.seed(12345)\n",
        "data = np.random.randn(2, 100)\n",
        "\n",
        "fig, axs = plt.subplots(2, 2, figsize=(10, 10))\n",
        "axs[0, 0].hist(data[0])\n",
        "axs[1, 0].scatter(data[0], data[1])\n",
        "axs[0, 1].plot(data[0], data[1])\n",
        "axs[1, 1].hist2d(data[0], data[1])\n",
        "\n",
        "plt.show()"
      ],
      "metadata": {
        "id": "YDnLWblCDKzI",
        "colab": {
          "base_uri": "https://localhost:8080/",
          "height": 592
        },
        "outputId": "17bb8c64-ee25-4abc-fe63-2aee7bff699f"
      },
      "execution_count": 37,
      "outputs": [
        {
          "output_type": "display_data",
          "data": {
            "text/plain": [
              "<Figure size 720x720 with 4 Axes>"
            ],
            "image/png": "[encoded data removed]"
          },
          "metadata": {
            "needs_background": "light"
          }
        }
      ]
    },
    {
      "cell_type": "code",
      "source": [
        "#prints 4 different types of graphs with the data we had"
      ],
      "metadata": {
        "id": "56L4l0wU35Tg"
      },
      "execution_count": 38,
      "outputs": []
    },
    {
      "cell_type": "markdown",
      "source": [
        "Normal Dist Data"
      ],
      "metadata": {
        "id": "7_JnWdew9Wyi"
      }
    },
    {
      "cell_type": "code",
      "source": [
        "mu = 100  # mean of distribution\n",
        "sigma = 15  # standard deviation of distribution\n",
        "x = mu + sigma * np.random.randn(10000)"
      ],
      "metadata": {
        "id": "uH9ty1AoDLjz"
      },
      "execution_count": 39,
      "outputs": []
    },
    {
      "cell_type": "code",
      "source": [
        "n,bins,patches = plt.hist(x)"
      ],
      "metadata": {
        "colab": {
          "base_uri": "https://localhost:8080/",
          "height": 265
        },
        "id": "4ePb80fFBvGK",
        "outputId": "05ba89cb-f70d-457c-966f-56e6da97da2a"
      },
      "execution_count": 40,
      "outputs": [
        {
          "output_type": "display_data",
          "data": {
            "text/plain": [
              "<Figure size 432x288 with 1 Axes>"
            ],
            "image/png": "[encoded data removed]"
          },
          "metadata": {
            "needs_background": "light"
          }
        }
      ]
    },
    {
      "cell_type": "code",
      "source": [
        "bins"
      ],
      "metadata": {
        "colab": {
          "base_uri": "https://localhost:8080/"
        },
        "id": "e65kj687Cmki",
        "outputId": "9c410fdb-7cb8-428b-b11a-a4d044feb8a3"
      },
      "execution_count": 43,
      "outputs": [
        {
          "output_type": "execute_result",
          "data": {
            "text/plain": [
              "array([ 43.81966184,  55.32898772,  66.83831359,  78.34763947,\n",
              "        89.85696535, 101.36629123, 112.8756171 , 124.38494298,\n",
              "       135.89426886, 147.40359473, 158.91292061])"
            ]
          },
          "metadata": {},
          "execution_count": 43
        }
      ]
    },
    {
      "cell_type": "code",
      "source": [
        "#what bins is defined as"
      ],
      "metadata": {
        "id": "6C4cMwcD4Kvl"
      },
      "execution_count": 42,
      "outputs": []
    },
    {
      "cell_type": "code",
      "source": [
        "y = ((1 / (np.sqrt(2 * np.pi) * sigma)) * np.exp(-0.5 * (1 / sigma * (bins - mu))**2))\n",
        "plt.plot(y)"
      ],
      "metadata": {
        "colab": {
          "base_uri": "https://localhost:8080/",
          "height": 283
        },
        "id": "pSvHkNxKBtV0",
        "outputId": "6b573dad-5527-4dfb-edd1-8422ea324d06"
      },
      "execution_count": 44,
      "outputs": [
        {
          "output_type": "execute_result",
          "data": {
            "text/plain": [
              "[<matplotlib.lines.Line2D at 0x7fc09a743dc0>]"
            ]
          },
          "metadata": {},
          "execution_count": 44
        },
        {
          "output_type": "display_data",
          "data": {
            "text/plain": [
              "<Figure size 432x288 with 1 Axes>"
            ],
            "image/png": "[encoded data removed]"
          },
          "metadata": {
            "needs_background": "light"
          }
        }
      ]
    },
    {
      "cell_type": "code",
      "source": [
        "num_bins = 50\n",
        "n,bins,patches = plt.hist(x, num_bins, density=1)\n",
        "y = ((1 / (np.sqrt(2 * np.pi) * sigma)) * np.exp(-0.5 * (1 / sigma * (bins - mu))**2))\n",
        "plt.plot(bins,y)"
      ],
      "metadata": {
        "colab": {
          "base_uri": "https://localhost:8080/",
          "height": 283
        },
        "id": "7aAvYtf6CqQ8",
        "outputId": "d6a4e601-b7a2-4838-dd3f-c2f7a54d08da"
      },
      "execution_count": 45,
      "outputs": [
        {
          "output_type": "execute_result",
          "data": {
            "text/plain": [
              "[<matplotlib.lines.Line2D at 0x7fc09a718eb0>]"
            ]
          },
          "metadata": {},
          "execution_count": 45
        },
        {
          "output_type": "display_data",
          "data": {
            "text/plain": [
              "<Figure size 432x288 with 1 Axes>"
            ],
            "image/png": "[encoded data removed]"
          },
          "metadata": {
            "needs_background": "light"
          }
        }
      ]
    },
    {
      "cell_type": "code",
      "source": [],
      "metadata": {
        "id": "YF6QrrWEDSWz"
      },
      "execution_count": null,
      "outputs": []
    },
    {
      "cell_type": "code",
      "source": [],
      "metadata": {
        "id": "5wpz-PiBDSfl"
      },
      "execution_count": null,
      "outputs": []
    },
    {
      "cell_type": "code",
      "source": [
        "def mean(x):\n",
        "    return np.sum(x)/x.shape[0] #defining mean"
      ],
      "metadata": {
        "id": "8YGwI2mN4Osx"
      },
      "execution_count": 46,
      "outputs": []
    },
    {
      "cell_type": "code",
      "source": [
        "def var(x): # defining the average square distance from the mean\n",
        "    return mean((x - mean(x))**2)"
      ],
      "metadata": {
        "id": "fKKUt5Qh4O2j"
      },
      "execution_count": 47,
      "outputs": []
    },
    {
      "cell_type": "code",
      "source": [
        "def std(x): # defining standard deviation\n",
        "    return np.sqrt(var(x))"
      ],
      "metadata": {
        "id": "XIVE-C_m5AfO"
      },
      "execution_count": 48,
      "outputs": []
    },
    {
      "cell_type": "code",
      "source": [
        "mean(x)"
      ],
      "metadata": {
        "id": "CD1D_Um34O0j",
        "colab": {
          "base_uri": "https://localhost:8080/"
        },
        "outputId": "a4d30fee-2531-4f92-c117-c2cc217a2e75"
      },
      "execution_count": 51,
      "outputs": [
        {
          "output_type": "execute_result",
          "data": {
            "text/plain": [
              "99.78475345251351"
            ]
          },
          "metadata": {},
          "execution_count": 51
        }
      ]
    },
    {
      "cell_type": "code",
      "source": [
        "std(x)"
      ],
      "metadata": {
        "id": "rSa3GCve44RA",
        "colab": {
          "base_uri": "https://localhost:8080/"
        },
        "outputId": "3b17df48-4ce5-453c-9c51-f020f6ab48e4"
      },
      "execution_count": 52,
      "outputs": [
        {
          "output_type": "execute_result",
          "data": {
            "text/plain": [
              "14.967403929980673"
            ]
          },
          "metadata": {},
          "execution_count": 52
        }
      ]
    },
    {
      "cell_type": "code",
      "source": [],
      "metadata": {
        "id": "71JWahMOJ_vW"
      },
      "execution_count": null,
      "outputs": []
    },
    {
      "cell_type": "markdown",
      "source": [
        "# Normal Random Number Generator"
      ],
      "metadata": {
        "id": "CwVhNQGvExWz"
      }
    },
    {
      "cell_type": "code",
      "metadata": {
        "id": "FQQe5WEEbw_0"
      },
      "source": [
        "#CDF PDF\n"
      ],
      "execution_count": 53,
      "outputs": []
    },
    {
      "cell_type": "code",
      "source": [
        "x=np.linspace(-10,10,100) #from -10,10 with 100 points\n",
        "y= np.exp(-x**2)\n",
        "plt.plot(x,y)"
      ],
      "metadata": {
        "colab": {
          "base_uri": "https://localhost:8080/",
          "height": 283
        },
        "id": "vMszoZjZqsOE",
        "outputId": "1f8dc965-d784-4f2c-99a9-71b25951f7ed"
      },
      "execution_count": 56,
      "outputs": [
        {
          "output_type": "execute_result",
          "data": {
            "text/plain": [
              "[<matplotlib.lines.Line2D at 0x7fc09a5376a0>]"
            ]
          },
          "metadata": {},
          "execution_count": 56
        },
        {
          "output_type": "display_data",
          "data": {
            "text/plain": [
              "<Figure size 432x288 with 1 Axes>"
            ],
            "image/png": "[encoded data removed]"
          },
          "metadata": {
            "needs_background": "light"
          }
        }
      ]
    },
    {
      "cell_type": "markdown",
      "source": [
        "$e^{-x^2}$"
      ],
      "metadata": {
        "id": "j7y4hH27qflQ"
      }
    },
    {
      "cell_type": "markdown",
      "metadata": {
        "id": "yJ59vSNn1LEU"
      },
      "source": [
        "![alt text](https://wikimedia.org/api/rest_v1/media/math/render/svg/4abaca87a10ecfa77b5a205056523706fe6c9c3f)"
      ]
    },
    {
      "cell_type": "code",
      "metadata": {
        "id": "iyMyj1cd1LEV"
      },
      "source": [
        "def normal_pdf(x,mu,sigma):\n",
        "  \n",
        "  return (1/(np.sqrt(2*np.pi*sigma**2)))*np.exp((-(x-mu)**2)/(2*sigma**2))"
      ],
      "execution_count": 57,
      "outputs": []
    },
    {
      "cell_type": "code",
      "metadata": {
        "id": "CzBfKnfL1LEX"
      },
      "source": [
        "x = np.linspace(-6,6,1000) #FROM -6, 6 with 1000 steps "
      ],
      "execution_count": 63,
      "outputs": []
    },
    {
      "cell_type": "code",
      "metadata": {
        "id": "s407zu5G1LEY"
      },
      "source": [
        "mu = 0"
      ],
      "execution_count": 64,
      "outputs": []
    },
    {
      "cell_type": "code",
      "metadata": {
        "id": "VJunvHrJ1LEb"
      },
      "source": [
        "sigma = 1"
      ],
      "execution_count": 65,
      "outputs": []
    },
    {
      "cell_type": "code",
      "metadata": {
        "id": "xGi4RlmT1LEe"
      },
      "source": [
        "pdf = normal_pdf(x,mu,sigma) #Use Normal for demo, replace with custom function pdf"
      ],
      "execution_count": 66,
      "outputs": []
    },
    {
      "cell_type": "code",
      "metadata": {
        "outputId": "c058603b-7ef1-479b-d4ac-4d67cb4b49e9",
        "id": "N674Q86J1LEh",
        "colab": {
          "base_uri": "https://localhost:8080/",
          "height": 283
        }
      },
      "source": [
        "plt.plot(x,pdf,'.') #plotting"
      ],
      "execution_count": 67,
      "outputs": [
        {
          "output_type": "execute_result",
          "data": {
            "text/plain": [
              "[<matplotlib.lines.Line2D at 0x7fc09a477250>]"
            ]
          },
          "metadata": {},
          "execution_count": 67
        },
        {
          "output_type": "display_data",
          "data": {
            "text/plain": [
              "<Figure size 432x288 with 1 Axes>"
            ],
            "image/png": "[encoded data removed]"
          },
          "metadata": {
            "needs_background": "light"
          }
        }
      ]
    },
    {
      "cell_type": "code",
      "metadata": {
        "id": "yDZg1FK41wtf"
      },
      "source": [
        "def partial_sums(x):\n",
        "\n",
        "  y = np.zeros(x.shape)\n",
        "  \n",
        "  for n in range(x.shape[0]):\n",
        "    \n",
        "    y[n] = np.sum(x[0:n])\n",
        "    \n",
        "  y = y / np.max(y)\n",
        "    \n",
        "  return y"
      ],
      "execution_count": 68,
      "outputs": []
    },
    {
      "cell_type": "code",
      "metadata": {
        "id": "merifRSe3vT1"
      },
      "source": [
        "cdf = partial_sums(pdf)"
      ],
      "execution_count": 69,
      "outputs": []
    },
    {
      "cell_type": "code",
      "metadata": {
        "id": "TIR6Tm2NYSlH",
        "outputId": "95f18ec1-fc1e-4dc0-d2ea-a7e84fc4f6da",
        "colab": {
          "base_uri": "https://localhost:8080/",
          "height": 265
        }
      },
      "source": [
        "plt.plot(x,cdf,'.');"
      ],
      "execution_count": 70,
      "outputs": [
        {
          "output_type": "display_data",
          "data": {
            "text/plain": [
              "<Figure size 432x288 with 1 Axes>"
            ],
            "image/png": "[encoded data removed]"
          },
          "metadata": {
            "needs_background": "light"
          }
        }
      ]
    },
    {
      "cell_type": "code",
      "metadata": {
        "id": "dxKQae6QEbQF",
        "outputId": "758a99f4-3dfd-48a8-d110-57b651597696",
        "colab": {
          "base_uri": "https://localhost:8080/",
          "height": 268
        }
      },
      "source": [
        "d_cdf = cdf[1:] - cdf[0:-1] #Demo to show that the diff of the cdf gives you back the pdf\n",
        "plt.plot(x[1:],d_cdf,'.');  #Not required for sampling "
      ],
      "execution_count": 71,
      "outputs": [
        {
          "output_type": "display_data",
          "data": {
            "text/plain": [
              "<Figure size 432x288 with 1 Axes>"
            ],
            "image/png": "[encoded data removed]"
          },
          "metadata": {
            "needs_background": "light"
          }
        }
      ]
    },
    {
      "cell_type": "code",
      "metadata": {
        "id": "sikTuIG3c_y7",
        "outputId": "5ff45618-e749-4738-87b1-e2ed9866210b",
        "colab": {
          "base_uri": "https://localhost:8080/",
          "height": 265
        }
      },
      "source": [
        "plt.plot(cdf,x,'.');"
      ],
      "execution_count": 72,
      "outputs": [
        {
          "output_type": "display_data",
          "data": {
            "text/plain": [
              "<Figure size 432x288 with 1 Axes>"
            ],
            "image/png": "[encoded data removed]"
          },
          "metadata": {
            "needs_background": "light"
          }
        }
      ]
    },
    {
      "cell_type": "code",
      "metadata": {
        "id": "HsmcFWw26gZk"
      },
      "source": [
        "def find_nearest(array, value):\n",
        "\n",
        "  idx = np.argmin(np.abs(array - value))\n",
        "  \n",
        "  return idx"
      ],
      "execution_count": 73,
      "outputs": []
    },
    {
      "cell_type": "code",
      "metadata": {
        "id": "u-_tbmzBcrby",
        "outputId": "ed1e67cc-b4ec-430e-dc95-51dcf87546de",
        "colab": {
          "base_uri": "https://localhost:8080/"
        }
      },
      "source": [
        "find_nearest(cdf, 0.1)"
      ],
      "execution_count": 74,
      "outputs": [
        {
          "output_type": "execute_result",
          "data": {
            "text/plain": [
              "393"
            ]
          },
          "metadata": {},
          "execution_count": 74
        }
      ]
    },
    {
      "cell_type": "code",
      "metadata": {
        "id": "Zf6KSUgmEt26",
        "outputId": "39fb91ac-35a4-4cee-df17-d77e00f39937",
        "colab": {
          "base_uri": "https://localhost:8080/"
        }
      },
      "source": [
        "x[393]"
      ],
      "execution_count": 75,
      "outputs": [
        {
          "output_type": "execute_result",
          "data": {
            "text/plain": [
              "-1.2792792792792795"
            ]
          },
          "metadata": {},
          "execution_count": 75
        }
      ]
    },
    {
      "cell_type": "code",
      "metadata": {
        "id": "M0O7iLuj5Qu5"
      },
      "source": [
        "xr = np.random.random((10000,))"
      ],
      "execution_count": 76,
      "outputs": []
    },
    {
      "cell_type": "code",
      "metadata": {
        "id": "AxX76gZp6gVV"
      },
      "source": [
        "w = np.zeros(xr.shape[0])\n",
        "\n",
        "for i in range(xr.shape[0]):\n",
        "  \n",
        "  w[i] = x[find_nearest(cdf, xr[i])]"
      ],
      "execution_count": 77,
      "outputs": []
    },
    {
      "cell_type": "code",
      "metadata": {
        "id": "0dBd_HybERUD",
        "outputId": "2d377bca-a4fb-42a8-a5db-bc3f5c024a67",
        "colab": {
          "base_uri": "https://localhost:8080/"
        }
      },
      "source": [
        "w.shape"
      ],
      "execution_count": 78,
      "outputs": [
        {
          "output_type": "execute_result",
          "data": {
            "text/plain": [
              "(10000,)"
            ]
          },
          "metadata": {},
          "execution_count": 78
        }
      ]
    },
    {
      "cell_type": "code",
      "metadata": {
        "id": "t4YdgMnK8j6D",
        "outputId": "aaf649f5-be19-4a3e-e392-38b3121f7b9b",
        "colab": {
          "base_uri": "https://localhost:8080/",
          "height": 265
        }
      },
      "source": [
        "plt.hist(w,50); #plotting"
      ],
      "execution_count": 79,
      "outputs": [
        {
          "output_type": "display_data",
          "data": {
            "text/plain": [
              "<Figure size 432x288 with 1 Axes>"
            ],
            "image/png": "[encoded data removed]"
          },
          "metadata": {
            "needs_background": "light"
          }
        }
      ]
    },
    {
      "cell_type": "code",
      "source": [
        "num_bins = 50\n",
        "n,bins,patches = plt.hist(w, num_bins, density=1)\n",
        "y = ((1 / (np.sqrt(2 * np.pi) * sigma)) * np.exp(-0.5 * (1 / sigma * (bins - mu))**2))\n",
        "plt.plot(bins,y) #defining the variables and plotting "
      ],
      "metadata": {
        "colab": {
          "base_uri": "https://localhost:8080/",
          "height": 283
        },
        "id": "T2tZnucPEtG4",
        "outputId": "9c3787b6-ea55-48fe-c211-acfee6654ff5"
      },
      "execution_count": 81,
      "outputs": [
        {
          "output_type": "execute_result",
          "data": {
            "text/plain": [
              "[<matplotlib.lines.Line2D at 0x7fc09a23cfa0>]"
            ]
          },
          "metadata": {},
          "execution_count": 81
        },
        {
          "output_type": "display_data",
          "data": {
            "text/plain": [
              "<Figure size 432x288 with 1 Axes>"
            ],
            "image/png": "[encoded data removed]"
          },
          "metadata": {
            "needs_background": "light"
          }
        }
      ]
    },
    {
      "cell_type": "markdown",
      "source": [
        "# Random Color"
      ],
      "metadata": {
        "id": "bJfwk8tnVV2E"
      }
    },
    {
      "cell_type": "code",
      "source": [
        "import numpy as np\n",
        "import matplotlib.pyplot as plt #importing the basic stuff"
      ],
      "metadata": {
        "id": "wTzwJf55_yiu"
      },
      "execution_count": 82,
      "outputs": []
    },
    {
      "cell_type": "code",
      "source": [
        "z = np.random.randint(0,255,size=(10,10,3)) #defining z,  10 by 10 with 3 color spectrums"
      ],
      "metadata": {
        "id": "C9B8aPO1RsN5"
      },
      "execution_count": 86,
      "outputs": []
    },
    {
      "cell_type": "code",
      "source": [
        "plt.imshow(z) "
      ],
      "metadata": {
        "colab": {
          "base_uri": "https://localhost:8080/",
          "height": 283
        },
        "id": "j9Ta2_kzRsQm",
        "outputId": "794f8e24-67b0-4b83-977b-3bc60f3d3695"
      },
      "execution_count": 87,
      "outputs": [
        {
          "output_type": "execute_result",
          "data": {
            "text/plain": [
              "<matplotlib.image.AxesImage at 0x7fc09a0feb50>"
            ]
          },
          "metadata": {},
          "execution_count": 87
        },
        {
          "output_type": "display_data",
          "data": {
            "text/plain": [
              "<Figure size 432x288 with 1 Axes>"
            ],
            "image/png": "[encoded data removed]"
          },
          "metadata": {
            "needs_background": "light"
          }
        }
      ]
    },
    {
      "cell_type": "code",
      "source": [
        "z = np.zeros((10,10,3)) #redefining z"
      ],
      "metadata": {
        "id": "ARBtvXpyUMrE"
      },
      "execution_count": 89,
      "outputs": []
    },
    {
      "cell_type": "code",
      "source": [
        "plt.imshow(z)"
      ],
      "metadata": {
        "colab": {
          "base_uri": "https://localhost:8080/",
          "height": 283
        },
        "outputId": "605fa249-0714-441f-fe42-608a62ff5243",
        "id": "yTL66sqlUMrF"
      },
      "execution_count": 90,
      "outputs": [
        {
          "output_type": "execute_result",
          "data": {
            "text/plain": [
              "<matplotlib.image.AxesImage at 0x7fc09a0ced00>"
            ]
          },
          "metadata": {},
          "execution_count": 90
        },
        {
          "output_type": "display_data",
          "data": {
            "text/plain": [
              "<Figure size 432x288 with 1 Axes>"
            ],
            "image/png": "[encoded data removed]"
          },
          "metadata": {
            "needs_background": "light"
          }
        }
      ]
    },
    {
      "cell_type": "code",
      "source": [
        "z = 0*np.ones((10,10,3))"
      ],
      "metadata": {
        "id": "1kGigXZlURDK"
      },
      "execution_count": 91,
      "outputs": []
    },
    {
      "cell_type": "code",
      "source": [
        "plt.imshow(z)"
      ],
      "metadata": {
        "colab": {
          "base_uri": "https://localhost:8080/",
          "height": 283
        },
        "outputId": "f26c182d-867e-425c-f4e6-e3c8cdb5e758",
        "id": "2n_nqptPURDK"
      },
      "execution_count": 92,
      "outputs": [
        {
          "output_type": "execute_result",
          "data": {
            "text/plain": [
              "<matplotlib.image.AxesImage at 0x7fc09a09fd30>"
            ]
          },
          "metadata": {},
          "execution_count": 92
        },
        {
          "output_type": "display_data",
          "data": {
            "text/plain": [
              "<Figure size 432x288 with 1 Axes>"
            ],
            "image/png": "[encoded data removed]"
          },
          "metadata": {
            "needs_background": "light"
          }
        }
      ]
    },
    {
      "cell_type": "code",
      "source": [
        "z = 255*np.ones((10,10,3))"
      ],
      "metadata": {
        "id": "5wFWbdFpT_dS"
      },
      "execution_count": 93,
      "outputs": []
    },
    {
      "cell_type": "code",
      "source": [
        "plt.imshow(z)"
      ],
      "metadata": {
        "colab": {
          "base_uri": "https://localhost:8080/",
          "height": 301
        },
        "outputId": "ca7c6a32-6171-4a1b-c2e4-5a3066f70fec",
        "id": "aEaFv5zzT_dZ"
      },
      "execution_count": 94,
      "outputs": [
        {
          "output_type": "stream",
          "name": "stderr",
          "text": [
            "WARNING:matplotlib.image:Clipping input data to the valid range for imshow with RGB data ([0..1] for floats or [0..255] for integers).\n"
          ]
        },
        {
          "output_type": "execute_result",
          "data": {
            "text/plain": [
              "<matplotlib.image.AxesImage at 0x7fc09a258eb0>"
            ]
          },
          "metadata": {},
          "execution_count": 94
        },
        {
          "output_type": "display_data",
          "data": {
            "text/plain": [
              "<Figure size 432x288 with 1 Axes>"
            ],
            "image/png": "[encoded data removed]"
          },
          "metadata": {
            "needs_background": "light"
          }
        }
      ]
    },
    {
      "cell_type": "code",
      "source": [
        "#trying different options for z "
      ],
      "metadata": {
        "id": "ikmb5o2bRsWP"
      },
      "execution_count": 95,
      "outputs": []
    },
    {
      "cell_type": "code",
      "source": [
        "z = np.ones((10,10,3))\n",
        "\n",
        "z[:,:,0] = 1\n",
        "z[:,:,1] = 0\n",
        "z[:,:,2] = 0\n",
        "\n",
        "plt.imshow(z)"
      ],
      "metadata": {
        "colab": {
          "base_uri": "https://localhost:8080/",
          "height": 283
        },
        "id": "RJYE-239RsYa",
        "outputId": "bb2efa99-5160-46ef-f677-020a15bdf9d8"
      },
      "execution_count": 96,
      "outputs": [
        {
          "output_type": "execute_result",
          "data": {
            "text/plain": [
              "<matplotlib.image.AxesImage at 0x7fc09a045940>"
            ]
          },
          "metadata": {},
          "execution_count": 96
        },
        {
          "output_type": "display_data",
          "data": {
            "text/plain": [
              "<Figure size 432x288 with 1 Axes>"
            ],
            "image/png": "[encoded data removed]"
          },
          "metadata": {
            "needs_background": "light"
          }
        }
      ]
    },
    {
      "cell_type": "code",
      "source": [
        "#depending on where the 1 is, the color will change"
      ],
      "metadata": {
        "id": "kMDoP6_mRscz"
      },
      "execution_count": 98,
      "outputs": []
    },
    {
      "cell_type": "code",
      "source": [
        "z = np.ones((10,10,3))\n",
        "\n",
        "z[:,:,0] = 0\n",
        "z[:,:,1] = 1\n",
        "z[:,:,2] = 0\n",
        "\n",
        "plt.imshow(z)"
      ],
      "metadata": {
        "colab": {
          "base_uri": "https://localhost:8080/",
          "height": 283
        },
        "id": "qhSydm4DRsfH",
        "outputId": "7bcfb943-9c6d-42c2-ef9e-ba94221efb42"
      },
      "execution_count": 100,
      "outputs": [
        {
          "output_type": "execute_result",
          "data": {
            "text/plain": [
              "<matplotlib.image.AxesImage at 0x7fc09a618cd0>"
            ]
          },
          "metadata": {},
          "execution_count": 100
        },
        {
          "output_type": "display_data",
          "data": {
            "text/plain": [
              "<Figure size 432x288 with 1 Axes>"
            ],
            "image/png": "[encoded data removed]"
          },
          "metadata": {
            "needs_background": "light"
          }
        }
      ]
    },
    {
      "cell_type": "code",
      "source": [],
      "metadata": {
        "id": "JdCyc8z2RshC"
      },
      "execution_count": null,
      "outputs": []
    },
    {
      "cell_type": "code",
      "source": [
        "z = np.ones((10,10,3))\n",
        "\n",
        "z[:,:,0] = 0\n",
        "z[:,:,1] = 0\n",
        "z[:,:,2] = 1\n",
        "\n",
        "plt.imshow(z)"
      ],
      "metadata": {
        "colab": {
          "base_uri": "https://localhost:8080/",
          "height": 283
        },
        "id": "S4Qe-_esRsjT",
        "outputId": "2569a243-7652-459f-a4be-26f15b8de05d"
      },
      "execution_count": 101,
      "outputs": [
        {
          "output_type": "execute_result",
          "data": {
            "text/plain": [
              "<matplotlib.image.AxesImage at 0x7fc09a3e9b20>"
            ]
          },
          "metadata": {},
          "execution_count": 101
        },
        {
          "output_type": "display_data",
          "data": {
            "text/plain": [
              "<Figure size 432x288 with 1 Axes>"
            ],
            "image/png": "[encoded data removed]"
          },
          "metadata": {
            "needs_background": "light"
          }
        }
      ]
    },
    {
      "cell_type": "code",
      "source": [],
      "metadata": {
        "id": "349O1XtjRsli"
      },
      "execution_count": null,
      "outputs": []
    },
    {
      "cell_type": "code",
      "source": [],
      "metadata": {
        "id": "wXZ3fWSdBN1A"
      },
      "execution_count": null,
      "outputs": []
    },
    {
      "cell_type": "code",
      "source": [
        "z = np.ones((10,10,3))\n",
        "\n",
        "r = np.random.rand()\n",
        "g = np.random.rand()\n",
        "b = np.random.rand()\n",
        "\n",
        "print(r,g,b)\n",
        "\n",
        "z[:,:,0] = r\n",
        "z[:,:,1] = g\n",
        "z[:,:,2] = b\n",
        "\n",
        "plt.imshow(z);"
      ],
      "metadata": {
        "colab": {
          "base_uri": "https://localhost:8080/",
          "height": 283
        },
        "id": "Yp7kwqqgRsny",
        "outputId": "c94b77e4-80e7-4c2b-bf7f-192bc1c7e61a"
      },
      "execution_count": 103,
      "outputs": [
        {
          "output_type": "stream",
          "name": "stdout",
          "text": [
            "0.6493218001159793 0.8440501574397374 0.8757220086979038\n"
          ]
        },
        {
          "output_type": "display_data",
          "data": {
            "text/plain": [
              "<Figure size 432x288 with 1 Axes>"
            ],
            "image/png": "[encoded data removed]"
          },
          "metadata": {
            "needs_background": "light"
          }
        }
      ]
    },
    {
      "cell_type": "code",
      "source": [
        "#prints out a random color which is based off a random number"
      ],
      "metadata": {
        "id": "kDJI-KkkVloT"
      },
      "execution_count": null,
      "outputs": []
    },
    {
      "cell_type": "code",
      "source": [
        "for i in range(10):\n",
        "\n",
        "    z = np.ones((10,10,3))\n",
        "\n",
        "    r = np.random.rand()\n",
        "    g = np.random.rand()\n",
        "    b = np.random.rand()\n",
        "\n",
        "    print(r,g,b)\n",
        "\n",
        "    z[:,:,0] = r\n",
        "    z[:,:,1] = g\n",
        "    z[:,:,2] = b\n",
        "\n",
        "    plt.imshow(z);\n",
        "    plt.show()"
      ],
      "metadata": {
        "id": "mcnFf8iWVmFq",
        "colab": {
          "base_uri": "https://localhost:8080/",
          "height": 1000
        },
        "outputId": "fbad7bbb-f4c5-420e-8819-fa9813997760"
      },
      "execution_count": 104,
      "outputs": [
        {
          "output_type": "stream",
          "name": "stdout",
          "text": [
            "0.19051181890558067 0.03509073915459071 0.5993799074468883\n"
          ]
        },
        {
          "output_type": "display_data",
          "data": {
            "text/plain": [
              "<Figure size 432x288 with 1 Axes>"
            ],
            "image/png": "[encoded data removed]"
          },
          "metadata": {
            "needs_background": "light"
          }
        },
        {
          "output_type": "stream",
          "name": "stdout",
          "text": [
            "0.31001319783075043 0.6146773885163394 0.891797153487203\n"
          ]
        },
        {
          "output_type": "display_data",
          "data": {
            "text/plain": [
              "<Figure size 432x288 with 1 Axes>"
            ],
            "image/png": "[encoded data removed]"
          },
          "metadata": {
            "needs_background": "light"
          }
        },
        {
          "output_type": "stream",
          "name": "stdout",
          "text": [
            "0.9205814748296941 0.5106575176500464 0.4090134196591997\n"
          ]
        },
        {
          "output_type": "display_data",
          "data": {
            "text/plain": [
              "<Figure size 432x288 with 1 Axes>"
            ],
            "image/png": "[encoded data removed]"
          },
          "metadata": {
            "needs_background": "light"
          }
        },
        {
          "output_type": "stream",
          "name": "stdout",
          "text": [
            "0.34929789316694015 0.23368318861023274 0.2420982174689419\n"
          ]
        },
        {
          "output_type": "display_data",
          "data": {
            "text/plain": [
              "<Figure size 432x288 with 1 Axes>"
            ],
            "image/png": "[encoded data removed]"
          },
          "metadata": {
            "needs_background": "light"
          }
        },
        {
          "output_type": "stream",
          "name": "stdout",
          "text": [
            "0.59757700697862 0.5923829332695645 0.4226565132768396\n"
          ]
        },
        {
          "output_type": "display_data",
          "data": {
            "text/plain": [
              "<Figure size 432x288 with 1 Axes>"
            ],
            "image/png": "[encoded data removed]"
          },
          "metadata": {
            "needs_background": "light"
          }
        },
        {
          "output_type": "stream",
          "name": "stdout",
          "text": [
            "0.5486316659237347 0.1399279899989655 0.7339779986892209\n"
          ]
        },
        {
          "output_type": "display_data",
          "data": {
            "text/plain": [
              "<Figure size 432x288 with 1 Axes>"
            ],
            "image/png": "[encoded data removed]"
          },
          "metadata": {
            "needs_background": "light"
          }
        },
        {
          "output_type": "stream",
          "name": "stdout",
          "text": [
            "0.5589983158243232 0.07067782884877383 0.8449281659413717\n"
          ]
        },
        {
          "output_type": "display_data",
          "data": {
            "text/plain": [
              "<Figure size 432x288 with 1 Axes>"
            ],
            "image/png": "[encoded data removed]"
          },
          "metadata": {
            "needs_background": "light"
          }
        },
        {
          "output_type": "stream",
          "name": "stdout",
          "text": [
            "0.49980324460898473 0.02857550726833613 0.760920470475553\n"
          ]
        },
        {
          "output_type": "display_data",
          "data": {
            "text/plain": [
              "<Figure size 432x288 with 1 Axes>"
            ],
            "image/png": "[encoded data removed]"
          },
          "metadata": {
            "needs_background": "light"
          }
        },
        {
          "output_type": "stream",
          "name": "stdout",
          "text": [
            "0.8214452648070827 0.608049341678305 0.5565022613026842\n"
          ]
        },
        {
          "output_type": "display_data",
          "data": {
            "text/plain": [
              "<Figure size 432x288 with 1 Axes>"
            ],
            "image/png": "[encoded data removed]"
          },
          "metadata": {
            "needs_background": "light"
          }
        },
        {
          "output_type": "stream",
          "name": "stdout",
          "text": [
            "0.38660007585304623 0.4884681724002965 0.617716768913088\n"
          ]
        },
        {
          "output_type": "display_data",
          "data": {
            "text/plain": [
              "<Figure size 432x288 with 1 Axes>"
            ],
            "image/png": "[encoded data removed]"
          },
          "metadata": {
            "needs_background": "light"
          }
        }
      ]
    },
    {
      "cell_type": "code",
      "source": [
        "#10 random colors"
      ],
      "metadata": {
        "id": "6Ek2JjDXaWd_"
      },
      "execution_count": null,
      "outputs": []
    },
    {
      "cell_type": "code",
      "source": [
        "z1 = np.ones((10,10,3))\n",
        "z1[:,:,0] = np.random.rand()\n",
        "z1[:,:,1] = np.random.rand()\n",
        "z1[:,:,2] = np.random.rand()\n",
        "\n",
        "z2 = np.ones((10,10,3))\n",
        "z2[:,:,0] = np.random.rand()\n",
        "z2[:,:,1] = np.random.rand()\n",
        "z2[:,:,2] = np.random.rand()\n",
        "\n",
        "z3 = np.hstack((z1,z2))\n",
        "\n",
        "plt.imshow(z3);\n",
        "plt.show()"
      ],
      "metadata": {
        "colab": {
          "base_uri": "https://localhost:8080/",
          "height": 215
        },
        "id": "mX-00vpRaWgy",
        "outputId": "71360088-6321-4af6-d997-ef8125b6c71b"
      },
      "execution_count": 105,
      "outputs": [
        {
          "output_type": "display_data",
          "data": {
            "text/plain": [
              "<Figure size 432x288 with 1 Axes>"
            ],
            "image/png": "[encoded data removed]"
          },
          "metadata": {
            "needs_background": "light"
          }
        }
      ]
    },
    {
      "cell_type": "code",
      "source": [
        "#two random colors side by side"
      ],
      "metadata": {
        "id": "OHNAZsIPU2O5"
      },
      "execution_count": null,
      "outputs": []
    },
    {
      "cell_type": "code",
      "source": [],
      "metadata": {
        "id": "z3JqvgXCay1a"
      },
      "execution_count": null,
      "outputs": []
    },
    {
      "cell_type": "code",
      "source": [
        "for i in range(10):\n",
        "    \n",
        "    z1 = np.ones((10,10,3))\n",
        "    z1[:,:,0] = np.random.rand()\n",
        "    z1[:,:,1] = np.random.rand()\n",
        "    z1[:,:,2] = np.random.rand()\n",
        "\n",
        "    z2 = np.ones((10,10,3))\n",
        "    z2[:,:,0] = np.random.rand()\n",
        "    z2[:,:,1] = np.random.rand()\n",
        "    z2[:,:,2] = np.random.rand()\n",
        "\n",
        "    z3 = np.hstack((z1,z2))\n",
        "\n",
        "    plt.imshow(z3);\n",
        "    plt.show()"
      ],
      "metadata": {
        "colab": {
          "base_uri": "https://localhost:8080/",
          "height": 1000
        },
        "id": "UOXsNSkoay3y",
        "outputId": "cc68ca47-c1a5-4faa-d0ef-89583418d5d1"
      },
      "execution_count": 106,
      "outputs": [
        {
          "output_type": "display_data",
          "data": {
            "text/plain": [
              "<Figure size 432x288 with 1 Axes>"
            ],
            "image/png": "[encoded data removed]"
          },
          "metadata": {
            "needs_background": "light"
          }
        },
        {
          "output_type": "display_data",
          "data": {
            "text/plain": [
              "<Figure size 432x288 with 1 Axes>"
            ],
            "image/png": "[encoded data removed]"
          },
          "metadata": {
            "needs_background": "light"
          }
        },
        {
          "output_type": "display_data",
          "data": {
            "text/plain": [
              "<Figure size 432x288 with 1 Axes>"
            ],
            "image/png": "[encoded data removed]"
          },
          "metadata": {
            "needs_background": "light"
          }
        },
        {
          "output_type": "display_data",
          "data": {
            "text/plain": [
              "<Figure size 432x288 with 1 Axes>"
            ],
            "image/png": "[encoded data removed]"
          },
          "metadata": {
            "needs_background": "light"
          }
        },
        {
          "output_type": "display_data",
          "data": {
            "text/plain": [
              "<Figure size 432x288 with 1 Axes>"
            ],
            "image/png": "[encoded data removed]"
          },
          "metadata": {
            "needs_background": "light"
          }
        },
        {
          "output_type": "display_data",
          "data": {
            "text/plain": [
              "<Figure size 432x288 with 1 Axes>"
            ],
            "image/png": "[encoded data removed]"
          },
          "metadata": {
            "needs_background": "light"
          }
        },
        {
          "output_type": "display_data",
          "data": {
            "text/plain": [
              "<Figure size 432x288 with 1 Axes>"
            ],
            "image/png": "[encoded data removed]"
          },
          "metadata": {
            "needs_background": "light"
          }
        },
        {
          "output_type": "display_data",
          "data": {
            "text/plain": [
              "<Figure size 432x288 with 1 Axes>"
            ],
            "image/png": "[encoded data removed]"
          },
          "metadata": {
            "needs_background": "light"
          }
        },
        {
          "output_type": "display_data",
          "data": {
            "text/plain": [
              "<Figure size 432x288 with 1 Axes>"
            ],
            "image/png": "[encoded data removed]"
          },
          "metadata": {
            "needs_background": "light"
          }
        },
        {
          "output_type": "display_data",
          "data": {
            "text/plain": [
              "<Figure size 432x288 with 1 Axes>"
            ],
            "image/png": "[encoded data removed]"
          },
          "metadata": {
            "needs_background": "light"
          }
        }
      ]
    },
    {
      "cell_type": "code",
      "source": [
        "#same as the last one but with a range of 10 different tries, will change everytime you run it. "
      ],
      "metadata": {
        "id": "eJ2Ea9HBbM_X"
      },
      "execution_count": null,
      "outputs": []
    },
    {
      "cell_type": "code",
      "source": [
        "for i in range(10):\n",
        "    \n",
        "    z1 = np.ones((10,10,3))\n",
        "    z2 = np.ones((10,10,3))\n",
        "\n",
        "    r = np.random.rand()\n",
        "    g = np.random.rand()\n",
        "    b = np.random.rand()\n",
        "\n",
        "    z1[:,:,0] = r\n",
        "    z1[:,:,1] = g\n",
        "    z1[:,:,2] = b\n",
        "    \n",
        "    z2[:,:,0] = 1-r\n",
        "    z2[:,:,1] = 1-g\n",
        "    z2[:,:,2] = 1-b\n",
        "\n",
        "    z3 = np.hstack((z1,z2))\n",
        "\n",
        "    plt.imshow(z3);\n",
        "    plt.show()"
      ],
      "metadata": {
        "colab": {
          "base_uri": "https://localhost:8080/",
          "height": 1000
        },
        "id": "1Y0s21HPbNBg",
        "outputId": "8514159f-1eb9-4a3e-a0ad-5ca0f5dbb317"
      },
      "execution_count": 107,
      "outputs": [
        {
          "output_type": "display_data",
          "data": {
            "text/plain": [
              "<Figure size 432x288 with 1 Axes>"
            ],
            "image/png": "[encoded data removed]"
          },
          "metadata": {
            "needs_background": "light"
          }
        },
        {
          "output_type": "display_data",
          "data": {
            "text/plain": [
              "<Figure size 432x288 with 1 Axes>"
            ],
            "image/png": "[encoded data removed]"
          },
          "metadata": {
            "needs_background": "light"
          }
        },
        {
          "output_type": "display_data",
          "data": {
            "text/plain": [
              "<Figure size 432x288 with 1 Axes>"
            ],
            "image/png": "[encoded data removed]"
          },
          "metadata": {
            "needs_background": "light"
          }
        },
        {
          "output_type": "display_data",
          "data": {
            "text/plain": [
              "<Figure size 432x288 with 1 Axes>"
            ],
            "image/png": "[encoded data removed]"
          },
          "metadata": {
            "needs_background": "light"
          }
        },
        {
          "output_type": "display_data",
          "data": {
            "text/plain": [
              "<Figure size 432x288 with 1 Axes>"
            ],
            "image/png": "[encoded data removed]"
          },
          "metadata": {
            "needs_background": "light"
          }
        },
        {
          "output_type": "display_data",
          "data": {
            "text/plain": [
              "<Figure size 432x288 with 1 Axes>"
            ],
            "image/png": "[encoded data removed]"
          },
          "metadata": {
            "needs_background": "light"
          }
        },
        {
          "output_type": "display_data",
          "data": {
            "text/plain": [
              "<Figure size 432x288 with 1 Axes>"
            ],
            "image/png": "[encoded data removed]"
          },
          "metadata": {
            "needs_background": "light"
          }
        },
        {
          "output_type": "display_data",
          "data": {
            "text/plain": [
              "<Figure size 432x288 with 1 Axes>"
            ],
            "image/png": "[encoded data removed]"
          },
          "metadata": {
            "needs_background": "light"
          }
        },
        {
          "output_type": "display_data",
          "data": {
            "text/plain": [
              "<Figure size 432x288 with 1 Axes>"
            ],
            "image/png": "[encoded data removed]"
          },
          "metadata": {
            "needs_background": "light"
          }
        },
        {
          "output_type": "display_data",
          "data": {
            "text/plain": [
              "<Figure size 432x288 with 1 Axes>"
            ],
            "image/png": "[encoded data removed]"
          },
          "metadata": {
            "needs_background": "light"
          }
        }
      ]
    },
    {
      "cell_type": "code",
      "source": [
        "#same as the last one"
      ],
      "metadata": {
        "id": "Ey4zcHqhU2Q-"
      },
      "execution_count": null,
      "outputs": []
    },
    {
      "cell_type": "markdown",
      "source": [
        "https://lospec.com/palette-list"
      ],
      "metadata": {
        "id": "ShxAALmgM1uv"
      }
    },
    {
      "cell_type": "code",
      "source": [
        "import numpy as np\n",
        "import matplotlib.pyplot as plt\n",
        "import matplotlib.colors as mcolors\n",
        "import matplotlib\n",
        "import imageio\n",
        "from PIL import Image\n",
        "\n",
        "def get_colors_lospec(url):\n",
        "    im = imageio.imread(url)\n",
        "    rgb_list = (im/255)[0,:,0:3]\n",
        "    float_list = list(np.linspace(0,1,len(rgb_list)))    \n",
        "    cdict = dict()\n",
        "    for num, col in enumerate(['red', 'green', 'blue']):\n",
        "        col_list = [[float_list[i], rgb_list[i][num], rgb_list[i][num]] for i in range(len(float_list))]\n",
        "        cdict[col] = col_list\n",
        "    cmp = mcolors.LinearSegmentedColormap('my_cmp', segmentdata=cdict, N=256)\n",
        "    return cmp"
      ],
      "metadata": {
        "id": "CRKnDKcrWGA0"
      },
      "execution_count": 108,
      "outputs": []
    },
    {
      "cell_type": "code",
      "source": [
        "#importing more coding systems "
      ],
      "metadata": {
        "id": "oPx32sW68CBw"
      },
      "execution_count": null,
      "outputs": []
    },
    {
      "cell_type": "code",
      "source": [
        "url = 'https://lospec.com/palette-list/agb-32x.png'"
      ],
      "metadata": {
        "id": "d4zuPhl7S0hM"
      },
      "execution_count": 109,
      "outputs": []
    },
    {
      "cell_type": "code",
      "source": [
        "url = 'https://lospec.com/palette-list/agb-1x.png'"
      ],
      "metadata": {
        "id": "N6slVKqSXSSd"
      },
      "execution_count": 110,
      "outputs": []
    },
    {
      "cell_type": "code",
      "source": [
        "url = 'https://lospec.com/palette-list/moondrom-1x.png' #defining urls"
      ],
      "metadata": {
        "id": "E9x4ENWMRtIZ"
      },
      "execution_count": 115,
      "outputs": []
    },
    {
      "cell_type": "code",
      "metadata": {
        "id": "V9zLLsIaRtIa"
      },
      "source": [
        "im = imageio.imread(url)"
      ],
      "execution_count": 116,
      "outputs": []
    },
    {
      "cell_type": "code",
      "metadata": {
        "colab": {
          "base_uri": "https://localhost:8080/",
          "height": 94
        },
        "outputId": "10f7442f-bbcf-4271-eb28-8ceb841dceb4",
        "id": "2d5fG_wNRtIa"
      },
      "source": [
        "plt.imshow(im);"
      ],
      "execution_count": 117,
      "outputs": [
        {
          "output_type": "display_data",
          "data": {
            "text/plain": [
              "<Figure size 432x288 with 1 Axes>"
            ],
            "image/png": "[encoded data removed]"
          },
          "metadata": {
            "needs_background": "light"
          }
        }
      ]
    },
    {
      "cell_type": "code",
      "source": [
        "#a spectrum of colors"
      ],
      "metadata": {
        "id": "LCXPot-u8WQb"
      },
      "execution_count": null,
      "outputs": []
    },
    {
      "cell_type": "code",
      "source": [
        "z = np.random.randint(0,255,size=(10,10))"
      ],
      "metadata": {
        "id": "eLq5CnVtTD3d"
      },
      "execution_count": 118,
      "outputs": []
    },
    {
      "cell_type": "code",
      "source": [
        "plt.imshow(z, cmap=get_colors_lospec(url))\n",
        "plt.colorbar();"
      ],
      "metadata": {
        "colab": {
          "base_uri": "https://localhost:8080/",
          "height": 268
        },
        "outputId": "9e96b2d7-fe05-4f1d-e4d1-fde7d794859a",
        "id": "OZ34VY76RtIa"
      },
      "execution_count": 119,
      "outputs": [
        {
          "output_type": "display_data",
          "data": {
            "text/plain": [
              "<Figure size 432x288 with 2 Axes>"
            ],
            "image/png": "[encoded data removed]"
          },
          "metadata": {
            "needs_background": "light"
          }
        }
      ]
    },
    {
      "cell_type": "code",
      "source": [
        "#color spectrum as separate boxes"
      ],
      "metadata": {
        "id": "Vuyvuimj8cup"
      },
      "execution_count": null,
      "outputs": []
    },
    {
      "cell_type": "code",
      "source": [
        "x, y = np.mgrid[-5:5:0.05, -5:5:0.05]\n",
        "z = np.sqrt(x**2 + y**2)\n",
        "\n",
        "plt.imshow(z, cmap=get_colors_lospec(url));\n",
        "plt.show()"
      ],
      "metadata": {
        "id": "uaZ4Le1FRsIr",
        "colab": {
          "base_uri": "https://localhost:8080/",
          "height": 269
        },
        "outputId": "f0c63ae4-204f-47e2-f743-845ce0afe37c"
      },
      "execution_count": 120,
      "outputs": [
        {
          "output_type": "display_data",
          "data": {
            "text/plain": [
              "<Figure size 432x288 with 1 Axes>"
            ],
            "image/png": "[encoded data removed]"
          },
          "metadata": {
            "needs_background": "light"
          }
        }
      ]
    },
    {
      "cell_type": "code",
      "source": [
        "#putting it all together based on the colors"
      ],
      "metadata": {
        "id": "_fsEXgBcA3RH"
      },
      "execution_count": null,
      "outputs": []
    },
    {
      "cell_type": "code",
      "source": [
        "x, y = np.mgrid[-5:5:0.05, -5:5:0.05]\n",
        "z = np.sin(3*y)\n",
        "\n",
        "plt.imshow(z, cmap=get_colors_lospec(url));\n",
        "plt.show()"
      ],
      "metadata": {
        "id": "70-fD1hyegyl",
        "colab": {
          "base_uri": "https://localhost:8080/",
          "height": 269
        },
        "outputId": "528fda33-2409-45be-e88c-a9a6801ba7c3"
      },
      "execution_count": 121,
      "outputs": [
        {
          "output_type": "display_data",
          "data": {
            "text/plain": [
              "<Figure size 432x288 with 1 Axes>"
            ],
            "image/png": "[encoded data removed]"
          },
          "metadata": {
            "needs_background": "light"
          }
        }
      ]
    },
    {
      "cell_type": "code",
      "source": [
        "x, y = np.mgrid[-5:5:0.05, -5:5:0.05]\n",
        "z = np.sin(3*y)*np.sin(3*x)\n",
        "\n",
        "plt.imshow(z, cmap=get_colors_lospec(url));\n",
        "plt.show()"
      ],
      "metadata": {
        "colab": {
          "base_uri": "https://localhost:8080/",
          "height": 269
        },
        "id": "DMRAq0NUAyk2",
        "outputId": "72189ecf-a452-4b07-e61b-f65520afbe4b"
      },
      "execution_count": 122,
      "outputs": [
        {
          "output_type": "display_data",
          "data": {
            "text/plain": [
              "<Figure size 432x288 with 1 Axes>"
            ],
            "image/png": "[encoded data removed]"
          },
          "metadata": {
            "needs_background": "light"
          }
        }
      ]
    },
    {
      "cell_type": "code",
      "source": [
        "#different ways to display similar information "
      ],
      "metadata": {
        "id": "NCgWMg1vA6iv"
      },
      "execution_count": null,
      "outputs": []
    }
  ]
}